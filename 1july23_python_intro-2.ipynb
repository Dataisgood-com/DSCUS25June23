{
 "cells": [
  {
   "cell_type": "markdown",
   "id": "2891220d",
   "metadata": {},
   "source": [
    "# My first Jupyter notebook"
   ]
  },
  {
   "cell_type": "code",
   "execution_count": 3,
   "id": "adad515c",
   "metadata": {
    "scrolled": false
   },
   "outputs": [
    {
     "name": "stdout",
     "output_type": "stream",
     "text": [
      "hello world\n"
     ]
    }
   ],
   "source": [
    "# displaying a string\n",
    "\n",
    "print(\"hello world\")"
   ]
  },
  {
   "cell_type": "code",
   "execution_count": 10,
   "id": "697e8c02",
   "metadata": {},
   "outputs": [],
   "source": [
    "a = 10\n",
    "b = 55\n",
    "\n",
    "result = a + b"
   ]
  },
  {
   "cell_type": "code",
   "execution_count": 6,
   "id": "711daeaf",
   "metadata": {},
   "outputs": [
    {
     "data": {
      "text/plain": [
       "65"
      ]
     },
     "execution_count": 6,
     "metadata": {},
     "output_type": "execute_result"
    }
   ],
   "source": [
    "result"
   ]
  },
  {
   "cell_type": "code",
   "execution_count": null,
   "id": "e7a8fae5",
   "metadata": {},
   "outputs": [],
   "source": [
    "# camelCase\n",
    "# snake_case"
   ]
  },
  {
   "cell_type": "markdown",
   "id": "0677b7d1",
   "metadata": {},
   "source": [
    "\n",
    "Valid Variable Name   |  Invalid Variable Name\n",
    "----------------------|-----------------------\n",
    "name_data             |  name - data (hyphens are not allowed)\n",
    "namedata              |  name data(spaces are not allowed)\n",
    "name1                 |  1name(can`t begin with number)\n",
    "_25                   |  25(can`t begin with number)\n",
    "Total_Sum             |  `Total_$um` (Special chracters like $ are not allowed)\n",
    "hello                 | 'hello'(Special chracters like ' are not allowed)\n",
    "\n"
   ]
  },
  {
   "cell_type": "code",
   "execution_count": 2,
   "id": "27cbe738",
   "metadata": {},
   "outputs": [],
   "source": [
    "?print"
   ]
  },
  {
   "cell_type": "code",
   "execution_count": null,
   "id": "2eb35bc1",
   "metadata": {},
   "outputs": [],
   "source": [
    "# commonly used built-in functions\n",
    "\n",
    "# input func\n",
    "# len func\n",
    "# type func\n",
    "# id func\n",
    "\n",
    "# python operators\n",
    "\n",
    "\n",
    "# Common Data Types\n",
    "\n",
    "# type casting\n",
    "\n",
    "# Keywords\n",
    "\n",
    "\n",
    "\n",
    "# String Indexing **\n",
    "\n",
    "\n"
   ]
  },
  {
   "cell_type": "code",
   "execution_count": 5,
   "id": "d11d9f01",
   "metadata": {},
   "outputs": [],
   "source": [
    "?input"
   ]
  },
  {
   "cell_type": "code",
   "execution_count": 20,
   "id": "bfa735c3",
   "metadata": {},
   "outputs": [
    {
     "name": "stdout",
     "output_type": "stream",
     "text": [
      "Enter a number...3\n",
      "Enter another number...2\n",
      "Sum of the given two number is: \n",
      "5\n"
     ]
    }
   ],
   "source": [
    "a = int(input(\"Enter a number...\"))\n",
    "b = int(input(\"Enter another number...\"))\n",
    "\n",
    "print(\"Sum of the given two number is: \")\n",
    "print(a + b)"
   ]
  },
  {
   "cell_type": "code",
   "execution_count": 19,
   "id": "1f3b4800",
   "metadata": {},
   "outputs": [
    {
     "name": "stdout",
     "output_type": "stream",
     "text": [
      "Sum of the given two number is: \n",
      "6\n"
     ]
    }
   ],
   "source": [
    "type(a)\n",
    "\n",
    "# perform type casting in order to change the data type\n",
    "\n"
   ]
  },
  {
   "cell_type": "code",
   "execution_count": 8,
   "id": "211bf3e5",
   "metadata": {},
   "outputs": [],
   "source": [
    "# Data Types in Python\n",
    "# Numeric - int, float, complex \n",
    "# Boolean - True, False\n",
    "\n",
    "\n",
    "x = 6 # int - -1, -2, 0, 1, 100\n",
    "\n",
    "y = 3.2 # float -3.5, -1.2, 2.0, 5.6\n",
    "\n",
    "z = 3 + 2j"
   ]
  },
  {
   "cell_type": "code",
   "execution_count": 13,
   "id": "bebee467",
   "metadata": {},
   "outputs": [
    {
     "data": {
      "text/plain": [
       "float"
      ]
     },
     "execution_count": 13,
     "metadata": {},
     "output_type": "execute_result"
    }
   ],
   "source": [
    "# type func\n",
    "\n",
    "type(y)"
   ]
  },
  {
   "cell_type": "code",
   "execution_count": 22,
   "id": "86bb9c49",
   "metadata": {},
   "outputs": [
    {
     "name": "stdout",
     "output_type": "stream",
     "text": [
      "What is your name?Joe\n",
      "Your name is:  Joe\n"
     ]
    }
   ],
   "source": [
    "name1 = input(\"What is your name?\")\n",
    "\n",
    "print(\"Your name is: \", name1)"
   ]
  },
  {
   "cell_type": "code",
   "execution_count": null,
   "id": "c0509696",
   "metadata": {},
   "outputs": [],
   "source": [
    "# operators\n",
    "\n",
    "# +, -, /, * \n",
    "# exponents 2**3\n",
    "# // floored division\n",
    "# % modulo operator/ modulus"
   ]
  },
  {
   "cell_type": "code",
   "execution_count": 23,
   "id": "7adb2e50",
   "metadata": {},
   "outputs": [
    {
     "data": {
      "text/plain": [
       "9.333333333333334"
      ]
     },
     "execution_count": 23,
     "metadata": {},
     "output_type": "execute_result"
    }
   ],
   "source": [
    "56 / 6"
   ]
  },
  {
   "cell_type": "code",
   "execution_count": 24,
   "id": "daba163c",
   "metadata": {},
   "outputs": [
    {
     "data": {
      "text/plain": [
       "9"
      ]
     },
     "execution_count": 24,
     "metadata": {},
     "output_type": "execute_result"
    }
   ],
   "source": [
    "56 // 6"
   ]
  },
  {
   "cell_type": "code",
   "execution_count": 25,
   "id": "cd2c3c98",
   "metadata": {},
   "outputs": [
    {
     "data": {
      "text/plain": [
       "2"
      ]
     },
     "execution_count": 25,
     "metadata": {},
     "output_type": "execute_result"
    }
   ],
   "source": [
    "56 % 6"
   ]
  },
  {
   "cell_type": "code",
   "execution_count": 28,
   "id": "105631ad",
   "metadata": {},
   "outputs": [
    {
     "name": "stdout",
     "output_type": "stream",
     "text": [
      "Enter your last name: Jacob\n",
      "Enter your first name: Joe\n",
      "Therefore your full name is:  Joe Jacob\n"
     ]
    }
   ],
   "source": [
    "last = input(\"Enter your last name: \")\n",
    "first = input(\"Enter your first name: \")\n",
    "\n",
    "print(\"Therefore your full name is: \", first + \" \" +last)"
   ]
  },
  {
   "cell_type": "code",
   "execution_count": 32,
   "id": "7d075660",
   "metadata": {},
   "outputs": [
    {
     "data": {
      "text/plain": [
       "'JohnJohnJohnJohnJohn'"
      ]
     },
     "execution_count": 32,
     "metadata": {},
     "output_type": "execute_result"
    }
   ],
   "source": [
    "\"John\" * 5"
   ]
  },
  {
   "cell_type": "code",
   "execution_count": 38,
   "id": "c5510945",
   "metadata": {},
   "outputs": [],
   "source": [
    "# assignment operators\n",
    "\n",
    "# =\n",
    "# +=\n",
    "# -=\n",
    "# *=\n",
    "# /=\n"
   ]
  },
  {
   "cell_type": "code",
   "execution_count": 37,
   "id": "8d97b2bc",
   "metadata": {},
   "outputs": [
    {
     "data": {
      "text/plain": [
       "4"
      ]
     },
     "execution_count": 37,
     "metadata": {},
     "output_type": "execute_result"
    }
   ],
   "source": [
    "a = 5\n",
    "\n",
    "a -= 1\n",
    "\n",
    "a"
   ]
  },
  {
   "cell_type": "code",
   "execution_count": 42,
   "id": "78da97ba",
   "metadata": {},
   "outputs": [
    {
     "data": {
      "text/plain": [
       "bool"
      ]
     },
     "execution_count": 42,
     "metadata": {},
     "output_type": "execute_result"
    }
   ],
   "source": [
    "# boolean data type\n",
    "type(False)"
   ]
  },
  {
   "cell_type": "code",
   "execution_count": 43,
   "id": "ecc4ebaf",
   "metadata": {},
   "outputs": [],
   "source": [
    "# comparison\n",
    "\n",
    "# == check if equal or not\n",
    "# > checks if greater than or not\n",
    "# < checks if less than or not\n",
    "# >= checks if grater or equal\n",
    "# <="
   ]
  },
  {
   "cell_type": "code",
   "execution_count": 47,
   "id": "67848cc4",
   "metadata": {},
   "outputs": [
    {
     "data": {
      "text/plain": [
       "False"
      ]
     },
     "execution_count": 47,
     "metadata": {},
     "output_type": "execute_result"
    }
   ],
   "source": [
    "\"Joe\" == \"joe\""
   ]
  },
  {
   "cell_type": "code",
   "execution_count": 48,
   "id": "4c5399b1",
   "metadata": {},
   "outputs": [
    {
     "data": {
      "text/plain": [
       "False"
      ]
     },
     "execution_count": 48,
     "metadata": {},
     "output_type": "execute_result"
    }
   ],
   "source": [
    "a = 5\n",
    "b = -5\n",
    "\n",
    "a == b"
   ]
  },
  {
   "cell_type": "code",
   "execution_count": 52,
   "id": "90d927ca",
   "metadata": {},
   "outputs": [
    {
     "name": "stdout",
     "output_type": "stream",
     "text": [
      "What is your name?Arpit\n",
      "Your name contains  5 characters\n",
      "What is your age?18\n",
      "You will be 23 in five years.\n"
     ]
    }
   ],
   "source": [
    "name2 = input(\"What is your name?\")\n",
    "\n",
    "print(\"Your name contains \", len(name2), \"characters\")\n",
    "\n",
    "age = int(input(\"What is your age?\"))\n",
    "\n",
    "print(\"You will be\", age + 5, \"in five years.\")"
   ]
  },
  {
   "cell_type": "code",
   "execution_count": 51,
   "id": "932be3d8",
   "metadata": {},
   "outputs": [
    {
     "data": {
      "text/plain": [
       "10"
      ]
     },
     "execution_count": 51,
     "metadata": {},
     "output_type": "execute_result"
    }
   ],
   "source": [
    "len(\"Dataisgood\")"
   ]
  },
  {
   "cell_type": "code",
   "execution_count": null,
   "id": "63363138",
   "metadata": {},
   "outputs": [],
   "source": []
  }
 ],
 "metadata": {
  "kernelspec": {
   "display_name": "Python 3 (ipykernel)",
   "language": "python",
   "name": "python3"
  },
  "language_info": {
   "codemirror_mode": {
    "name": "ipython",
    "version": 3
   },
   "file_extension": ".py",
   "mimetype": "text/x-python",
   "name": "python",
   "nbconvert_exporter": "python",
   "pygments_lexer": "ipython3",
   "version": "3.10.9"
  }
 },
 "nbformat": 4,
 "nbformat_minor": 5
}
