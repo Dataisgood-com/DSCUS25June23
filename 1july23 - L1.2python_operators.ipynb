{
 "cells": [
  {
   "cell_type": "code",
   "execution_count": 1,
   "id": "7ce166d6",
   "metadata": {},
   "outputs": [],
   "source": [
    "# identity operator\n",
    "# membership operator\n",
    "\n",
    "# Data Types - String(String Indexing and Formatting), Sequence, Mapping, None \n",
    "\n",
    "# keywords in python\n"
   ]
  },
  {
   "cell_type": "code",
   "execution_count": 3,
   "id": "c626ef6d",
   "metadata": {},
   "outputs": [
    {
     "name": "stdout",
     "output_type": "stream",
     "text": [
      "True\n"
     ]
    }
   ],
   "source": [
    "x = \"dataisgood\"\n",
    "\n",
    "y = x\n",
    "\n",
    "print(x is y)"
   ]
  },
  {
   "cell_type": "code",
   "execution_count": 17,
   "id": "cdda0ffc",
   "metadata": {},
   "outputs": [
    {
     "name": "stdout",
     "output_type": "stream",
     "text": [
      "True\n"
     ]
    }
   ],
   "source": [
    "z = \"dataisgood\"\n",
    "\n",
    "\n",
    "print(x is not z) "
   ]
  },
  {
   "cell_type": "code",
   "execution_count": 6,
   "id": "5db47135",
   "metadata": {},
   "outputs": [
    {
     "data": {
      "text/plain": [
       "True"
      ]
     },
     "execution_count": 6,
     "metadata": {},
     "output_type": "execute_result"
    }
   ],
   "source": [
    "x == y"
   ]
  },
  {
   "cell_type": "code",
   "execution_count": 7,
   "id": "f412d838",
   "metadata": {},
   "outputs": [
    {
     "data": {
      "text/plain": [
       "True"
      ]
     },
     "execution_count": 7,
     "metadata": {},
     "output_type": "execute_result"
    }
   ],
   "source": [
    "x == z"
   ]
  },
  {
   "cell_type": "code",
   "execution_count": 8,
   "id": "95379aa5",
   "metadata": {},
   "outputs": [
    {
     "data": {
      "text/plain": [
       "4354891824"
      ]
     },
     "execution_count": 8,
     "metadata": {},
     "output_type": "execute_result"
    }
   ],
   "source": [
    "id(z)"
   ]
  },
  {
   "cell_type": "code",
   "execution_count": 9,
   "id": "f6894d9c",
   "metadata": {},
   "outputs": [
    {
     "data": {
      "text/plain": [
       "4354891824"
      ]
     },
     "execution_count": 9,
     "metadata": {},
     "output_type": "execute_result"
    }
   ],
   "source": [
    "id(x)"
   ]
  },
  {
   "cell_type": "code",
   "execution_count": 14,
   "id": "264ef823",
   "metadata": {},
   "outputs": [
    {
     "data": {
      "text/plain": [
       "4354891824"
      ]
     },
     "execution_count": 14,
     "metadata": {},
     "output_type": "execute_result"
    }
   ],
   "source": [
    "id(y)"
   ]
  },
  {
   "cell_type": "code",
   "execution_count": 10,
   "id": "68adda2e",
   "metadata": {},
   "outputs": [],
   "source": [
    "a = 5"
   ]
  },
  {
   "cell_type": "code",
   "execution_count": 11,
   "id": "16b90e5d",
   "metadata": {},
   "outputs": [
    {
     "data": {
      "text/plain": [
       "4302291312"
      ]
     },
     "execution_count": 11,
     "metadata": {},
     "output_type": "execute_result"
    }
   ],
   "source": [
    "id(a)"
   ]
  },
  {
   "cell_type": "code",
   "execution_count": 12,
   "id": "12163ff6",
   "metadata": {},
   "outputs": [
    {
     "data": {
      "text/plain": [
       "False"
      ]
     },
     "execution_count": 12,
     "metadata": {},
     "output_type": "execute_result"
    }
   ],
   "source": [
    "x is a"
   ]
  },
  {
   "cell_type": "code",
   "execution_count": 15,
   "id": "7a4c4942",
   "metadata": {},
   "outputs": [],
   "source": [
    "x = \"data\""
   ]
  },
  {
   "cell_type": "code",
   "execution_count": 16,
   "id": "ccf4fa39",
   "metadata": {},
   "outputs": [
    {
     "data": {
      "text/plain": [
       "4303111024"
      ]
     },
     "execution_count": 16,
     "metadata": {},
     "output_type": "execute_result"
    }
   ],
   "source": [
    "id(x)"
   ]
  },
  {
   "cell_type": "code",
   "execution_count": 20,
   "id": "f553f193",
   "metadata": {},
   "outputs": [
    {
     "name": "stdout",
     "output_type": "stream",
     "text": [
      "False\n"
     ]
    }
   ],
   "source": [
    "# membership operator\n",
    "\n",
    "a = \"dataisgood\"\n",
    "\n",
    "print(\"g\" not in a)"
   ]
  },
  {
   "cell_type": "code",
   "execution_count": 23,
   "id": "96323c5c",
   "metadata": {},
   "outputs": [
    {
     "data": {
      "text/plain": [
       "'\\nLet me tell you a story \\n\\nto chill the bones...\\n'"
      ]
     },
     "execution_count": 23,
     "metadata": {},
     "output_type": "execute_result"
    }
   ],
   "source": [
    "# string data type\n",
    "\n",
    "text1 = \"hello world!\"\n",
    "text2 = 'hello everyone'\n",
    "text3 = \"\"\"Hello from the \n",
    "\n",
    "other side...\"\"\"\n",
    "\n",
    "\n",
    "'''\n",
    "Let me tell you a story \n",
    "\n",
    "to chill the bones...\n",
    "'''"
   ]
  },
  {
   "cell_type": "code",
   "execution_count": 25,
   "id": "70b7fc43",
   "metadata": {},
   "outputs": [
    {
     "data": {
      "text/plain": [
       "'Hello Bob'"
      ]
     },
     "execution_count": 25,
     "metadata": {},
     "output_type": "execute_result"
    }
   ],
   "source": [
    "# common operation for string data type\n",
    "\n",
    "# concatenation\n",
    "\n",
    "greeting = \"Hello\"\n",
    "\n",
    "name = \"Bob\"\n",
    "\n",
    "space = \" \"\n",
    "\n",
    "message = greeting + space + name\n",
    "message"
   ]
  },
  {
   "cell_type": "code",
   "execution_count": 36,
   "id": "87c5a1d7",
   "metadata": {},
   "outputs": [
    {
     "data": {
      "text/plain": [
       "'T'"
      ]
     },
     "execution_count": 36,
     "metadata": {},
     "output_type": "execute_result"
    }
   ],
   "source": [
    "# string indexing \n",
    "\n",
    "music = \"The\"\n",
    "\n",
    "c1 = music[0]\n",
    "c1"
   ]
  },
  {
   "cell_type": "code",
   "execution_count": 37,
   "id": "c368edc9",
   "metadata": {},
   "outputs": [
    {
     "data": {
      "text/plain": [
       "'e'"
      ]
     },
     "execution_count": 37,
     "metadata": {},
     "output_type": "execute_result"
    }
   ],
   "source": [
    "last = music[2]\n",
    "last"
   ]
  },
  {
   "cell_type": "code",
   "execution_count": 38,
   "id": "9a05b632",
   "metadata": {},
   "outputs": [
    {
     "data": {
      "text/plain": [
       "'e'"
      ]
     },
     "execution_count": 38,
     "metadata": {},
     "output_type": "execute_result"
    }
   ],
   "source": [
    "lastcharacter = music[-1]\n",
    "lastcharacter"
   ]
  },
  {
   "cell_type": "code",
   "execution_count": 39,
   "id": "c83d6460",
   "metadata": {},
   "outputs": [
    {
     "data": {
      "text/plain": [
       "3"
      ]
     },
     "execution_count": 39,
     "metadata": {},
     "output_type": "execute_result"
    }
   ],
   "source": [
    "len(music)"
   ]
  },
  {
   "cell_type": "code",
   "execution_count": 42,
   "id": "a6c1a5ff",
   "metadata": {},
   "outputs": [
    {
     "data": {
      "text/plain": [
       "'e'"
      ]
     },
     "execution_count": 42,
     "metadata": {},
     "output_type": "execute_result"
    }
   ],
   "source": [
    "music[- 1]"
   ]
  },
  {
   "cell_type": "code",
   "execution_count": 49,
   "id": "42106b1f",
   "metadata": {},
   "outputs": [
    {
     "data": {
      "text/plain": [
       "'in Par'"
      ]
     },
     "execution_count": 49,
     "metadata": {},
     "output_type": "execute_result"
    }
   ],
   "source": [
    "# string slicing\n",
    "\n",
    "m = \"Linkin Park\"\n",
    "\n",
    "m[4:-1]"
   ]
  },
  {
   "cell_type": "code",
   "execution_count": 54,
   "id": "5cb97fb0",
   "metadata": {},
   "outputs": [
    {
     "data": {
      "text/plain": [
       "'kraP nikniL'"
      ]
     },
     "execution_count": 54,
     "metadata": {},
     "output_type": "execute_result"
    }
   ],
   "source": [
    "m[::-1]"
   ]
  },
  {
   "cell_type": "code",
   "execution_count": 55,
   "id": "e7c8e7a9",
   "metadata": {},
   "outputs": [
    {
     "data": {
      "text/plain": [
       "'HELLO WORLD'"
      ]
     },
     "execution_count": 55,
     "metadata": {},
     "output_type": "execute_result"
    }
   ],
   "source": [
    "# string methods\n",
    "\n",
    "greeting = \"Hello World\"\n",
    "\n",
    "greeting.upper()"
   ]
  },
  {
   "cell_type": "code",
   "execution_count": 61,
   "id": "05b3fed1",
   "metadata": {},
   "outputs": [
    {
     "data": {
      "text/plain": [
       "'hello world'"
      ]
     },
     "execution_count": 61,
     "metadata": {},
     "output_type": "execute_result"
    }
   ],
   "source": [
    "greeting.lower()"
   ]
  },
  {
   "cell_type": "code",
   "execution_count": 62,
   "id": "e6bb8834",
   "metadata": {},
   "outputs": [
    {
     "data": {
      "text/plain": [
       "'Hi, World'"
      ]
     },
     "execution_count": 62,
     "metadata": {},
     "output_type": "execute_result"
    }
   ],
   "source": [
    "greeting.replace(\"Hello\", \"Hi,\")"
   ]
  },
  {
   "cell_type": "code",
   "execution_count": 63,
   "id": "5a9d9a52",
   "metadata": {},
   "outputs": [
    {
     "data": {
      "text/plain": [
       "'Hello World'"
      ]
     },
     "execution_count": 63,
     "metadata": {},
     "output_type": "execute_result"
    }
   ],
   "source": [
    "greeting"
   ]
  },
  {
   "cell_type": "code",
   "execution_count": 66,
   "id": "fdefbd2c",
   "metadata": {},
   "outputs": [
    {
     "data": {
      "text/plain": [
       "'Hello World'"
      ]
     },
     "execution_count": 66,
     "metadata": {},
     "output_type": "execute_result"
    }
   ],
   "source": [
    "greeting = \"    Hello World   \"\n",
    "\n",
    "greeting.strip()\n"
   ]
  },
  {
   "cell_type": "code",
   "execution_count": 67,
   "id": "de11b2fd",
   "metadata": {},
   "outputs": [
    {
     "name": "stdout",
     "output_type": "stream",
     "text": [
      "My name is Joe !\n"
     ]
    }
   ],
   "source": [
    "name = \"Joe\"\n",
    "print(\"My name is\", name, \"!\")"
   ]
  },
  {
   "cell_type": "code",
   "execution_count": 74,
   "id": "14fdfd44",
   "metadata": {},
   "outputs": [
    {
     "data": {
      "text/plain": [
       "'My name is Joe !! My age is 500.'"
      ]
     },
     "execution_count": 74,
     "metadata": {},
     "output_type": "execute_result"
    }
   ],
   "source": [
    "# % formatting\n",
    "\n",
    "age = 500\n",
    "\"My name is %s !! My age is %d.\" % (name, age)\n",
    "\n"
   ]
  },
  {
   "cell_type": "code",
   "execution_count": 75,
   "id": "5eb49677",
   "metadata": {},
   "outputs": [
    {
     "data": {
      "text/plain": [
       "'My name is Joe !! My age is 500.'"
      ]
     },
     "execution_count": 75,
     "metadata": {},
     "output_type": "execute_result"
    }
   ],
   "source": [
    "# str format\n",
    "\n",
    "\"My name is {} !! My age is {}.\".format(name, age)"
   ]
  },
  {
   "cell_type": "code",
   "execution_count": 76,
   "id": "f3d7a54f",
   "metadata": {},
   "outputs": [
    {
     "data": {
      "text/plain": [
       "'My name is Joe !! My age is 500.'"
      ]
     },
     "execution_count": 76,
     "metadata": {},
     "output_type": "execute_result"
    }
   ],
   "source": [
    "# f string\n",
    "\n",
    "f\"My name is {name} !! My age is {age}.\""
   ]
  },
  {
   "cell_type": "code",
   "execution_count": null,
   "id": "ccc06807",
   "metadata": {},
   "outputs": [],
   "source": []
  }
 ],
 "metadata": {
  "kernelspec": {
   "display_name": "Python 3 (ipykernel)",
   "language": "python",
   "name": "python3"
  },
  "language_info": {
   "codemirror_mode": {
    "name": "ipython",
    "version": 3
   },
   "file_extension": ".py",
   "mimetype": "text/x-python",
   "name": "python",
   "nbconvert_exporter": "python",
   "pygments_lexer": "ipython3",
   "version": "3.10.9"
  }
 },
 "nbformat": 4,
 "nbformat_minor": 5
}
