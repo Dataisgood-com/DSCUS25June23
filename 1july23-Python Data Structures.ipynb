{
 "cells": [
  {
   "cell_type": "code",
   "execution_count": 1,
   "id": "c116a29f",
   "metadata": {},
   "outputs": [],
   "source": [
    "# sequence data type\n",
    "\n",
    "# lists"
   ]
  },
  {
   "cell_type": "markdown",
   "id": "a61152a4",
   "metadata": {},
   "source": [
    "## List\n",
    "\n",
    "* A list is a commonly used sequential data type in many programming language. It is an ordered collection of elements enclosed in `[` `]`.\n",
    "\n",
    "* Each element in a list can be of any data type.\n",
    "\n"
   ]
  },
  {
   "cell_type": "code",
   "execution_count": 11,
   "id": "8a3b2b17",
   "metadata": {
    "scrolled": true
   },
   "outputs": [],
   "source": [
    "shoppingList = ['banana', \"milk\", 'eggs', 'carrot', 'bread']"
   ]
  },
  {
   "cell_type": "code",
   "execution_count": 12,
   "id": "648105ea",
   "metadata": {},
   "outputs": [
    {
     "data": {
      "text/plain": [
       "'milk'"
      ]
     },
     "execution_count": 12,
     "metadata": {},
     "output_type": "execute_result"
    }
   ],
   "source": [
    "shoppingList[1]"
   ]
  },
  {
   "cell_type": "code",
   "execution_count": 13,
   "id": "7c716fe7",
   "metadata": {},
   "outputs": [
    {
     "name": "stdout",
     "output_type": "stream",
     "text": [
      "bread\n"
     ]
    }
   ],
   "source": [
    "print(shoppingList[-1])"
   ]
  },
  {
   "cell_type": "code",
   "execution_count": 19,
   "id": "87432842",
   "metadata": {},
   "outputs": [
    {
     "data": {
      "text/plain": [
       "['milk']"
      ]
     },
     "execution_count": 19,
     "metadata": {},
     "output_type": "execute_result"
    }
   ],
   "source": [
    "shoppingList[1:2]"
   ]
  },
  {
   "cell_type": "code",
   "execution_count": 20,
   "id": "a98a1749",
   "metadata": {},
   "outputs": [],
   "source": [
    "shoppingList[0] = \"kiwi\""
   ]
  },
  {
   "cell_type": "code",
   "execution_count": 21,
   "id": "951f51f3",
   "metadata": {
    "scrolled": true
   },
   "outputs": [
    {
     "data": {
      "text/plain": [
       "['kiwi', 'milk', 'eggs', 'carrot', 'bread']"
      ]
     },
     "execution_count": 21,
     "metadata": {},
     "output_type": "execute_result"
    }
   ],
   "source": [
    "shoppingList"
   ]
  },
  {
   "cell_type": "markdown",
   "id": "8e1b57ce",
   "metadata": {},
   "source": [
    "In the above block of code, you can see that `kiwi` is updated in the list `shoppingList`, this is because lists are mutable, i.e., we can update an element at a specific index. "
   ]
  },
  {
   "cell_type": "code",
   "execution_count": 22,
   "id": "5fc72ad3",
   "metadata": {},
   "outputs": [
    {
     "data": {
      "text/plain": [
       "5"
      ]
     },
     "execution_count": 22,
     "metadata": {},
     "output_type": "execute_result"
    }
   ],
   "source": [
    "len(shoppingList)"
   ]
  },
  {
   "cell_type": "code",
   "execution_count": 26,
   "id": "79d8499c",
   "metadata": {
    "scrolled": true
   },
   "outputs": [
    {
     "ename": "TypeError",
     "evalue": "list.append() takes exactly one argument (2 given)",
     "output_type": "error",
     "traceback": [
      "\u001b[0;31m---------------------------------------------------------------------------\u001b[0m",
      "\u001b[0;31mTypeError\u001b[0m                                 Traceback (most recent call last)",
      "Input \u001b[0;32mIn [26]\u001b[0m, in \u001b[0;36m<cell line: 4>\u001b[0;34m()\u001b[0m\n\u001b[1;32m      1\u001b[0m \u001b[38;5;66;03m# list methods\u001b[39;00m\n\u001b[0;32m----> 4\u001b[0m \u001b[43mshoppingList\u001b[49m\u001b[38;5;241;43m.\u001b[39;49m\u001b[43mappend\u001b[49m\u001b[43m(\u001b[49m\u001b[38;5;124;43m\"\u001b[39;49m\u001b[38;5;124;43mpear\u001b[39;49m\u001b[38;5;124;43m\"\u001b[39;49m\u001b[43m,\u001b[49m\u001b[43m \u001b[49m\u001b[38;5;124;43m\"\u001b[39;49m\u001b[38;5;124;43mmilk\u001b[39;49m\u001b[38;5;124;43m\"\u001b[39;49m\u001b[43m)\u001b[49m\n",
      "\u001b[0;31mTypeError\u001b[0m: list.append() takes exactly one argument (2 given)"
     ]
    }
   ],
   "source": [
    "# list methods\n",
    "\n",
    "\n",
    "shoppingList.append(\"pear\")"
   ]
  },
  {
   "cell_type": "code",
   "execution_count": 25,
   "id": "6dab3771",
   "metadata": {},
   "outputs": [
    {
     "data": {
      "text/plain": [
       "['kiwi', 'milk', 'eggs', 'carrot', 'bread', 'pear']"
      ]
     },
     "execution_count": 25,
     "metadata": {},
     "output_type": "execute_result"
    }
   ],
   "source": [
    "shoppingList"
   ]
  },
  {
   "cell_type": "code",
   "execution_count": 29,
   "id": "1ba11c0b",
   "metadata": {},
   "outputs": [],
   "source": [
    "extendedShopping = shoppingList"
   ]
  },
  {
   "cell_type": "code",
   "execution_count": 35,
   "id": "83ebd742",
   "metadata": {},
   "outputs": [],
   "source": [
    "extendedShopping.extend([\"water\", \"Juice\"])"
   ]
  },
  {
   "cell_type": "code",
   "execution_count": 36,
   "id": "4d02f8ab",
   "metadata": {},
   "outputs": [
    {
     "data": {
      "text/plain": [
       "['kiwi',\n",
       " 'milk',\n",
       " 'eggs',\n",
       " 'carrot',\n",
       " 'bread',\n",
       " 'pear',\n",
       " 'water',\n",
       " 'Juice',\n",
       " 'water',\n",
       " 'Juice',\n",
       " 'water',\n",
       " 'Juice']"
      ]
     },
     "execution_count": 36,
     "metadata": {},
     "output_type": "execute_result"
    }
   ],
   "source": [
    "extendedShopping"
   ]
  },
  {
   "cell_type": "code",
   "execution_count": 38,
   "id": "741382d0",
   "metadata": {},
   "outputs": [],
   "source": [
    "shoppingList.remove(\"eggs\")"
   ]
  },
  {
   "cell_type": "code",
   "execution_count": 39,
   "id": "3a9d9b6d",
   "metadata": {},
   "outputs": [
    {
     "data": {
      "text/plain": [
       "['kiwi',\n",
       " 'milk',\n",
       " 'carrot',\n",
       " 'bread',\n",
       " 'pear',\n",
       " 'water',\n",
       " 'Juice',\n",
       " 'water',\n",
       " 'Juice',\n",
       " 'water',\n",
       " 'Juice']"
      ]
     },
     "execution_count": 39,
     "metadata": {},
     "output_type": "execute_result"
    }
   ],
   "source": [
    "shoppingList"
   ]
  },
  {
   "cell_type": "code",
   "execution_count": 40,
   "id": "f29dbcfe",
   "metadata": {},
   "outputs": [
    {
     "data": {
      "text/plain": [
       "'Juice'"
      ]
     },
     "execution_count": 40,
     "metadata": {},
     "output_type": "execute_result"
    }
   ],
   "source": [
    "shoppingList.pop()"
   ]
  },
  {
   "cell_type": "code",
   "execution_count": 41,
   "id": "a32e4ea4",
   "metadata": {},
   "outputs": [
    {
     "data": {
      "text/plain": [
       "['kiwi',\n",
       " 'milk',\n",
       " 'carrot',\n",
       " 'bread',\n",
       " 'pear',\n",
       " 'water',\n",
       " 'Juice',\n",
       " 'water',\n",
       " 'Juice',\n",
       " 'water']"
      ]
     },
     "execution_count": 41,
     "metadata": {},
     "output_type": "execute_result"
    }
   ],
   "source": [
    "shoppingList"
   ]
  },
  {
   "cell_type": "code",
   "execution_count": 43,
   "id": "2f2bd837",
   "metadata": {},
   "outputs": [
    {
     "data": {
      "text/plain": [
       "'water'"
      ]
     },
     "execution_count": 43,
     "metadata": {},
     "output_type": "execute_result"
    }
   ],
   "source": [
    "shoppingList.pop(-3)"
   ]
  },
  {
   "cell_type": "code",
   "execution_count": 44,
   "id": "ac25b817",
   "metadata": {},
   "outputs": [
    {
     "data": {
      "text/plain": [
       "['kiwi', 'milk', 'carrot', 'bread', 'pear', 'water', 'Juice', 'Juice', 'water']"
      ]
     },
     "execution_count": 44,
     "metadata": {},
     "output_type": "execute_result"
    }
   ],
   "source": [
    "shoppingList"
   ]
  },
  {
   "cell_type": "code",
   "execution_count": 45,
   "id": "0fe8fab4",
   "metadata": {},
   "outputs": [],
   "source": [
    "del shoppingList[-2]"
   ]
  },
  {
   "cell_type": "code",
   "execution_count": 47,
   "id": "f458618a",
   "metadata": {},
   "outputs": [
    {
     "data": {
      "text/plain": [
       "['kiwi', 'milk', 'carrot', 'bread', 'pear', 'water', 'Juice', 'water']"
      ]
     },
     "execution_count": 47,
     "metadata": {},
     "output_type": "execute_result"
    }
   ],
   "source": [
    "shoppingList"
   ]
  },
  {
   "cell_type": "code",
   "execution_count": 48,
   "id": "c00f8654",
   "metadata": {},
   "outputs": [
    {
     "data": {
      "text/plain": [
       "['kiwi',\n",
       " 'milk',\n",
       " 'carrot',\n",
       " 'bread',\n",
       " 'pear',\n",
       " 'water',\n",
       " 'Juice',\n",
       " 'water',\n",
       " 'Strawberry',\n",
       " 'broccoli',\n",
       " 'apple']"
      ]
     },
     "execution_count": 48,
     "metadata": {},
     "output_type": "execute_result"
    }
   ],
   "source": [
    "newlist = [\"Strawberry\", \"broccoli\", \"apple\"]\n",
    "\n",
    "updateList = shoppingList + newlist\n",
    "\n",
    "updateList"
   ]
  },
  {
   "cell_type": "code",
   "execution_count": 49,
   "id": "e9f70490",
   "metadata": {},
   "outputs": [],
   "source": [
    "shoppingList.clear()"
   ]
  },
  {
   "cell_type": "code",
   "execution_count": 50,
   "id": "0df490af",
   "metadata": {},
   "outputs": [
    {
     "data": {
      "text/plain": [
       "[]"
      ]
     },
     "execution_count": 50,
     "metadata": {},
     "output_type": "execute_result"
    }
   ],
   "source": [
    "shoppingList"
   ]
  },
  {
   "cell_type": "code",
   "execution_count": 52,
   "id": "a4c7f140",
   "metadata": {},
   "outputs": [
    {
     "data": {
      "text/plain": [
       "2"
      ]
     },
     "execution_count": 52,
     "metadata": {},
     "output_type": "execute_result"
    }
   ],
   "source": [
    "updateList.count(\"water\")"
   ]
  },
  {
   "cell_type": "code",
   "execution_count": 58,
   "id": "1db14b3f",
   "metadata": {},
   "outputs": [],
   "source": [
    "updateList.sort(reverse=True)"
   ]
  },
  {
   "cell_type": "code",
   "execution_count": 59,
   "id": "7126ac4a",
   "metadata": {
    "scrolled": true
   },
   "outputs": [
    {
     "name": "stdout",
     "output_type": "stream",
     "text": [
      "['water', 'water', 'pear', 'milk', 'kiwi', 'carrot', 'broccoli', 'bread', 'apple', 'Strawberry', 'Juice']\n"
     ]
    }
   ],
   "source": [
    "print(updateList)"
   ]
  },
  {
   "cell_type": "code",
   "execution_count": 63,
   "id": "b7db1660",
   "metadata": {},
   "outputs": [],
   "source": [
    "?list.reverse"
   ]
  },
  {
   "cell_type": "markdown",
   "id": "54792c3c",
   "metadata": {},
   "source": [
    "A *binary gap* within a positive integer N is any maximal sequence of consecutive zeros that is surrounded by ones at both ends in the binary representation of N.\n",
    "\n",
    "For example, number 9 has binary representation 1001 and contains a binary gap of length 2. The number 529 has binary representation 1000010001 and contains two binary gaps: one of length 4 and one of length 3. The number 20 has binary representation 10100 and contains one binary gap of length 1. The number 15 has binary representation 1111 and has no binary gaps. The number 32 has binary representation 100000 and has no binary gaps.\n",
    "\n",
    "\n",
    "Write a code that, given a positive integer N, returns the length of its longest binary gap. The code should return 0 if N doesn't contain a binary gap.\n",
    "\n",
    "For example, given N = 1041 the code should return 5, because N has binary representation 10000010001 and so its longest binary gap is of length 5. Given N = 32 the code should return 0, because N has binary representation '100000' and thus no binary gaps.\n",
    "\n",
    "Write an **efficient** algorithm for the following assumptions:\n",
    "\n",
    "> N is an integer within the range [1..2,147,483,647].\n",
    ">"
   ]
  },
  {
   "cell_type": "code",
   "execution_count": 73,
   "id": "4cb88a92",
   "metadata": {},
   "outputs": [
    {
     "data": {
      "text/plain": [
       "'\\n- Figure out how to convert to binary\\n- max and min functions\\n- split method\\n- strip method\\n- len function\\n\\n'"
      ]
     },
     "execution_count": 73,
     "metadata": {},
     "output_type": "execute_result"
    }
   ],
   "source": [
    "# HINTS\n",
    "\n",
    "\"\"\"\n",
    "- Figure out how to convert to binary\n",
    "- max and min functions\n",
    "- split method\n",
    "- strip method\n",
    "- len function\n",
    "\n",
    "\"\"\""
   ]
  },
  {
   "cell_type": "code",
   "execution_count": 72,
   "id": "f3ec47f9",
   "metadata": {},
   "outputs": [
    {
     "data": {
      "text/plain": [
       "3"
      ]
     },
     "execution_count": 72,
     "metadata": {},
     "output_type": "execute_result"
    }
   ],
   "source": [
    "min([3, 10, 7, 8])"
   ]
  },
  {
   "cell_type": "code",
   "execution_count": null,
   "id": "f5dae5c0",
   "metadata": {},
   "outputs": [],
   "source": []
  }
 ],
 "metadata": {
  "kernelspec": {
   "display_name": "Python 3 (ipykernel)",
   "language": "python",
   "name": "python3"
  },
  "language_info": {
   "codemirror_mode": {
    "name": "ipython",
    "version": 3
   },
   "file_extension": ".py",
   "mimetype": "text/x-python",
   "name": "python",
   "nbconvert_exporter": "python",
   "pygments_lexer": "ipython3",
   "version": "3.10.9"
  }
 },
 "nbformat": 4,
 "nbformat_minor": 5
}
